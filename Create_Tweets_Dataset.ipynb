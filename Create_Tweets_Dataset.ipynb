{
 "cells": [
  {
   "cell_type": "code",
   "execution_count": 2,
   "metadata": {},
   "outputs": [],
   "source": [
    "import pandas as pd\n",
    "\n",
    "FILE='Datasets/Tweets 2015 - 2020/Tweet.csv'\n",
    "tw=pd.read_csv(FILE, sep=',')#.loc[::-1].reset_index(drop=True)\n",
    "\n",
    "FILE='Datasets/Tweets 2015 - 2020/Company_Tweet.csv'\n",
    "co=pd.read_csv(FILE, sep=',')\n"
   ]
  },
  {
   "cell_type": "code",
   "execution_count": 4,
   "metadata": {},
   "outputs": [
    {
     "name": "stdout",
     "output_type": "stream",
     "text": [
      "            post_date                                               body  \\\n",
      "0 2015-01-01 00:00:57  lx21 made $10,008  on $AAPL -Check it out! htt...   \n",
      "1 2015-01-01 00:01:36  Insanity of today weirdo massive selling. $aap...   \n",
      "2 2015-01-01 00:01:50  S&P100 #Stocks Performance $HD $LOW $SBUX $TGT...   \n",
      "4 2015-01-01 00:10:05  Swing Trading: Up To 8.91% Return In 14 Days h...   \n",
      "6 2015-01-01 00:10:05  Swing Trading: Up To 8.91% Return In 14 Days h...   \n",
      "\n",
      "  ticker_symbol  \n",
      "0          AAPL  \n",
      "1          AAPL  \n",
      "2          AMZN  \n",
      "4          AAPL  \n",
      "6          AAPL  \n"
     ]
    }
   ],
   "source": [
    "cleantw=tw.drop(columns=['writer', 'comment_num', 'retweet_num','like_num'])\n",
    "tweets= pd.merge(cleantw, co, on='tweet_id', how='inner')\n",
    "tweets= tweets.drop(columns=['tweet_id'])\n",
    "tweets = tweets[tweets['ticker_symbol'].str.contains('|'.join(['AAPL','AMZN','GOOG']))]\n",
    "tweets['post_date'] =pd.to_datetime(tweets['post_date'], unit='s')\n",
    "print(tweets.head())\n",
    "tweets.to_csv('Datasets/tweets_2015_2019.csv') "
   ]
  }
 ],
 "metadata": {
  "kernelspec": {
   "display_name": "Python 3",
   "language": "python",
   "name": "python3"
  },
  "language_info": {
   "codemirror_mode": {
    "name": "ipython",
    "version": 3
   },
   "file_extension": ".py",
   "mimetype": "text/x-python",
   "name": "python",
   "nbconvert_exporter": "python",
   "pygments_lexer": "ipython3",
   "version": "3.12.6"
  }
 },
 "nbformat": 4,
 "nbformat_minor": 2
}
