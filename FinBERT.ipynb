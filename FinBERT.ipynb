{
 "cells": [
  {
   "cell_type": "code",
   "execution_count": null,
   "metadata": {},
   "outputs": [],
   "source": [
    "from transformers import AutoTokenizer, AutoModelForSequenceClassification\n",
    "\n",
    "tokenizer = AutoTokenizer.from_pretrained(\"ProsusAI/finbert\")\n",
    "model = AutoModelForSequenceClassification.from_pretrained(\"ProsusAI/finbert\")"
   ]
  },
  {
   "cell_type": "code",
   "execution_count": null,
   "metadata": {},
   "outputs": [],
   "source": [
    "from datasets import load_dataset\n",
    "\n",
    "ds = load_dataset(\"sehyun66/Finnhub-News\", \"clean\")"
   ]
  },
  {
   "cell_type": "code",
   "execution_count": null,
   "metadata": {},
   "outputs": [],
   "source": [
    "import pandas as pd\n",
    "\n",
    "pdds = pd.DataFrame(ds['clean'])\n",
    "pdds = pdds.drop(columns=['image','source','url','id'])\n",
    "pdds"
   ]
  },
  {
   "cell_type": "code",
   "execution_count": null,
   "metadata": {},
   "outputs": [],
   "source": [
    "pdds['datetime'] =pd.to_datetime(pdds['datetime'], unit='ms')\n",
    "pdds"
   ]
  },
  {
   "cell_type": "code",
   "execution_count": null,
   "metadata": {},
   "outputs": [],
   "source": [
    "aapl = pdds[pdds['related'].str.contains('|'.join(['AAPL', 'GOOGL','AMZN']))]\n",
    "#aapl.dropna(axis=0, how='any')\n",
    "aapl = aapl.drop(aapl[aapl['summary']==''].index)\n",
    "aapl = aapl.drop(aapl[aapl['headline']==''].index)\n",
    "aapl\n",
    "\n"
   ]
  },
  {
   "cell_type": "code",
   "execution_count": null,
   "metadata": {},
   "outputs": [],
   "source": [
    "import numpy as np\n",
    "\n",
    "headlines_array = np.array(aapl)\n",
    "i=0\n",
    "rango = 100\n",
    "inputsArray =[]\n",
    "\n",
    "while len(headlines_array) > i*rango:\n",
    "    headlines_list = list(headlines_array[i*rango:(i+1)*rango, 4])\n",
    "    inputsArray.append(tokenizer(headlines_list, padding = True, truncation = True, return_tensors='pt'))\n",
    "    i = i + 1"
   ]
  },
  {
   "cell_type": "code",
   "execution_count": null,
   "metadata": {},
   "outputs": [],
   "source": [
    "import torch\n",
    "\n",
    "positive = []\n",
    "negative = []\n",
    "neutral = []\n",
    "\n",
    "for inputs in inputsArray:\n",
    "    outputs = model(**inputs)\n",
    "    predictions = torch.nn.functional.softmax(outputs.logits, dim=-1)\n",
    "    \n",
    "    positive.extend(predictions[:, 0].tolist())\n",
    "    negative.extend(predictions[:, 1].tolist())\n",
    "    neutral.extend(predictions[:, 2].tolist())\n"
   ]
  },
  {
   "cell_type": "code",
   "execution_count": null,
   "metadata": {},
   "outputs": [],
   "source": [
    "model.config.id2label\n",
    "\n",
    "table = {'Date':headlines_array[:,0],\n",
    "         'Headline':headlines_array[:,4],\n",
    "         \"Positive\":positive,\n",
    "         \"Negative\":negative, \n",
    "         \"Neutral\":neutral}\n",
    "      \n",
    "df = pd.DataFrame(table, columns = [\"Date\",\"Headline\", \"Positive\", \"Negative\", \"Neutral\"])\n",
    "df = df.sort_values(\"Date\")\n",
    "df\n"
   ]
  }
 ],
 "metadata": {
  "kernelspec": {
   "display_name": "Python 3",
   "language": "python",
   "name": "python3"
  },
  "language_info": {
   "codemirror_mode": {
    "name": "ipython",
    "version": 3
   },
   "file_extension": ".py",
   "mimetype": "text/x-python",
   "name": "python",
   "nbconvert_exporter": "python",
   "pygments_lexer": "ipython3",
   "version": "3.12.6"
  }
 },
 "nbformat": 4,
 "nbformat_minor": 2
}
