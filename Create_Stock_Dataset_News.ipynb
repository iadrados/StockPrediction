{
 "cells": [
  {
   "cell_type": "code",
   "execution_count": 1,
   "metadata": {},
   "outputs": [],
   "source": [
    "import requests # type: ignore\n",
    "import pandas as pd # type: ignore\n",
    "\n",
    "APIKEY='X9WT0QP6QJUP62Z2'\n",
    "#APIKEY='J9C7OL32PNFNYOQT'\n",
    "#APIKEY='IEC8UQONBQGA7UYQ'\n",
    "#APIKEY='demo'\n",
    "SYMBOL='AAPL'\n",
    "YEAR = '2022'\n",
    "\n",
    "url =  'https://www.alphavantage.co/query?function=NEWS_SENTIMENT&tickers=' + SYMBOL\n",
    "url += '&time_from='+YEAR+'0101T0000&time_to='+YEAR+'1231T0000&limit=1000&apikey=' + APIKEY\n",
    "r = requests.get(url)"
   ]
  },
  {
   "cell_type": "code",
   "execution_count": 2,
   "metadata": {},
   "outputs": [
    {
     "name": "stdout",
     "output_type": "stream",
     "text": [
      "File saved\n"
     ]
    }
   ],
   "source": [
    "import json\n",
    "import numpy as np # type: ignore\n",
    "\n",
    "sentiment = np.empty([0,6])\n",
    "df= pd.json_normalize(r.json()['feed'])\n",
    "for index, row in df.iterrows():\n",
    "    for item in row['ticker_sentiment']:\n",
    "        if item['ticker'] == SYMBOL:\n",
    "            newnp=np.array([row['time_published'], row['title'],row['summary'], item['ticker'], item['relevance_score'], item['ticker_sentiment_score']])\n",
    "            sentiment = np.vstack((sentiment, newnp))           \n",
    "sntmnt = pd.DataFrame(sentiment, columns=['date','title','summary','ticker','relevance','sentiment'])\n",
    "sntmnt.to_csv('Datasets/News-'+SYMBOL+'-'+YEAR+'.csv', index=False)\n",
    "print(\"File saved\")"
   ]
  }
 ],
 "metadata": {
  "kernelspec": {
   "display_name": "Python 3",
   "language": "python",
   "name": "python3"
  },
  "language_info": {
   "codemirror_mode": {
    "name": "ipython",
    "version": 3
   },
   "file_extension": ".py",
   "mimetype": "text/x-python",
   "name": "python",
   "nbconvert_exporter": "python",
   "pygments_lexer": "ipython3",
   "version": "3.12.7"
  }
 },
 "nbformat": 4,
 "nbformat_minor": 2
}
