{
 "cells": [
  {
   "cell_type": "markdown",
   "metadata": {},
   "source": [
    "## Stock Exchange News Datasets\n",
    "\n",
    "Downloads and merges the stock exchange news datasets from Alpha Vantage using the demo API Key. Replace the 'demo' key by a new key obtained in https://www.alphavantage.co/.\n",
    "\n",
    "Specify the FILE_PATH, SYMBOL and YEAR for getting the required data"
   ]
  },
  {
   "cell_type": "code",
   "execution_count": null,
   "metadata": {},
   "outputs": [
    {
     "name": "stdout",
     "output_type": "stream",
     "text": [
      "721\n",
      "1471\n",
      "2197\n",
      "2922\n",
      "3659\n",
      "4384\n",
      "5097\n",
      "5823\n",
      "6552\n",
      "7267\n",
      "7990\n",
      "8727\n",
      "File saved\n"
     ]
    }
   ],
   "source": [
    "import requests # type: ignore\n",
    "import pandas as pd # type: ignore\n",
    "import numpy as np # type: ignore\n",
    "import calendar\n",
    "\n",
    "#The path to the datasets used in this notebook\n",
    "FILE_PATH = 'Datasets/' \n",
    "APIKEY='demo'\n",
    "SYMBOL='GOOG'\n",
    "YEAR = 2023\n",
    "\n",
    "file = None\n",
    "save=True\n",
    "for d in range(YEAR, YEAR+1):\n",
    "    for m in range(0,12):        \n",
    "        if m+1 < 10:\n",
    "            mon = str(d)+\"0\"+str(m+1)\n",
    "        else:\n",
    "            mon = str(d)+str(m+1)\n",
    "        url =  'https://www.alphavantage.co/query?function=NEWS_SENTIMENT&tickers=' + SYMBOL\n",
    "        url += '&time_from='+mon+'01T0000&time_to='+mon+str(calendar.monthrange(YEAR, m+1)[1])+\\\n",
    "            'T2359&limit=1000&apikey=' + APIKEY\n",
    "        r = requests.get(url)\n",
    "      \n",
    "        sentiment = np.empty([0,6])\n",
    "        \n",
    "        if 'feed' in pd.json_normalize(r.json()):\n",
    "            df= pd.json_normalize(r.json()['feed'])\n",
    "            for index, row in df.iterrows():\n",
    "                for item in row['ticker_sentiment']:\n",
    "                    if item['ticker'] == SYMBOL:\n",
    "                        newnp=np.array([row['time_published'], row['title'],row['summary'],\n",
    "                            item['ticker'], item['relevance_score'], item['ticker_sentiment_score']])\n",
    "                        sentiment = np.vstack((sentiment, newnp))           \n",
    "            sntmnt = pd.DataFrame(sentiment, columns=['date','title','summary','ticker','relevance','sentiment'])\n",
    "            file = pd.concat([file, sntmnt])\n",
    "            print(file.shape[0])\n",
    "        else:\n",
    "            print(r.json())\n",
    "            save=False\n",
    "            break\n",
    "if save:\n",
    "    file.to_csv(FILE_PATH + 'News-'+SYMBOL+'-'+str(YEAR)+'.csv', index=False)\n",
    "    print(\"File saved\")\n",
    "else:\n",
    "    print(\"File not saved\")"
   ]
  }
 ],
 "metadata": {
  "kernelspec": {
   "display_name": "Python 3",
   "language": "python",
   "name": "python3"
  },
  "language_info": {
   "codemirror_mode": {
    "name": "ipython",
    "version": 3
   },
   "file_extension": ".py",
   "mimetype": "text/x-python",
   "name": "python",
   "nbconvert_exporter": "python",
   "pygments_lexer": "ipython3",
   "version": "3.12.6"
  }
 },
 "nbformat": 4,
 "nbformat_minor": 2
}
