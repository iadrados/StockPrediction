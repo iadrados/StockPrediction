{
 "cells": [
  {
   "cell_type": "code",
   "execution_count": null,
   "metadata": {},
   "outputs": [
    {
     "name": "stdout",
     "output_type": "stream",
     "text": [
      "https://www.alphavantage.co/query?function=NEWS_SENTIMENT&tickers=AMZN&time_from=20230101T0000&time_to=20231231T0000&limit=1000&apikey=IEC8UQONBQGA7UYQ\n"
     ]
    }
   ],
   "source": [
    "import requests # type: ignore\n",
    "import pandas as pd # type: ignore\n",
    "import io\n",
    "\n",
    "APIKEY='X9WT0QP6QJUP62Z2'\n",
    "APIKEY='J9C7OL32PNFNYOQT'\n",
    "APIKEY='IEC8UQONBQGA7UYQ'\n",
    "#APIKEY='demo'\n",
    "SYMBOL='AMZN'\n",
    "YEAR = '2023'\n",
    "\n",
    "file = None\n",
    "url =  'https://www.alphavantage.co/query?function=NEWS_SENTIMENT&tickers=' + SYMBOL\n",
    "url += '&time_from='+YEAR+'0101T0000&time_to='+YEAR+'1231T0000&limit=1000&apikey=' + APIKEY\n",
    "print(url)\n",
    "r = requests.get(url)\n",
    "#file = pd.read_csv(io.StringIO(r.content.decode('utf-8')))\n",
    "#file.to_csv('Datasets/News-'+SYMBOL+'-'+YEAR+'.csv', index=False)\n",
    "#print(\"File Saved\")\n",
    "#file"
   ]
  },
  {
   "cell_type": "code",
   "execution_count": null,
   "metadata": {},
   "outputs": [
    {
     "data": {
      "text/plain": [
       "0      [{'ticker': 'BABA', 'relevance_score': '0.1696...\n",
       "1      [{'ticker': 'MSFT', 'relevance_score': '0.0681...\n",
       "2      [{'ticker': 'AMD', 'relevance_score': '0.06715...\n",
       "3      [{'ticker': 'SHOP', 'relevance_score': '0.2235...\n",
       "4      [{'ticker': 'TGT', 'relevance_score': '0.02319...\n",
       "                             ...                        \n",
       "700    [{'ticker': 'TGT', 'relevance_score': '0.51335...\n",
       "701    [{'ticker': 'CVNA', 'relevance_score': '0.4767...\n",
       "702    [{'ticker': 'CPRT', 'relevance_score': '0.0982...\n",
       "703    [{'ticker': 'CVNA', 'relevance_score': '0.4122...\n",
       "704    [{'ticker': 'AMZN', 'relevance_score': '0.5085...\n",
       "Name: ticker_sentiment, Length: 705, dtype: object"
      ]
     },
     "execution_count": 104,
     "metadata": {},
     "output_type": "execute_result"
    }
   ],
   "source": [
    "import json\n",
    "\n",
    "#pd.read_csv(io.StringIO(r.content.decode('utf-8')))\n",
    "file = r.json()\n",
    "df= pd.json_normalize(file['feed'])#.drop(columns=['url','authors','banner_image','source','category_within_source','source_domain','topics','overall_sentiment_label'])\n",
    "#df.to_csv('Datasets/News-'+SYMBOL+'-'+YEAR+'.csv', index=False)\n",
    "#df[['time_published','']]\n",
    "df = df[['time_published','ticker_sentiment']]\n",
    "\n",
    "type(df['ticker_sentiment']\n",
    "#j = json.loads(str(df['ticker_sentiment'][0]))\n",
    "\n",
    "#print(\"File saved\")"
   ]
  }
 ],
 "metadata": {
  "kernelspec": {
   "display_name": "Python 3",
   "language": "python",
   "name": "python3"
  },
  "language_info": {
   "codemirror_mode": {
    "name": "ipython",
    "version": 3
   },
   "file_extension": ".py",
   "mimetype": "text/x-python",
   "name": "python",
   "nbconvert_exporter": "python",
   "pygments_lexer": "ipython3",
   "version": "3.12.6"
  }
 },
 "nbformat": 4,
 "nbformat_minor": 2
}
