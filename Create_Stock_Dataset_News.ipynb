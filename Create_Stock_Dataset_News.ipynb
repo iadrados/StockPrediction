{
 "cells": [
  {
   "cell_type": "code",
   "execution_count": null,
   "metadata": {},
   "outputs": [
    {
     "name": "stdout",
     "output_type": "stream",
     "text": [
      "690\n",
      "1346\n",
      "2006\n",
      "2688\n",
      "3352\n",
      "4012\n",
      "4688\n",
      "5348\n",
      "6033\n",
      "6717\n",
      "File saved\n"
     ]
    }
   ],
   "source": [
    "import requests # type: ignore\n",
    "import pandas as pd # type: ignore\n",
    "import numpy as np # type: ignore\n",
    "import calendar\n",
    "\n",
    "#APIKEY='X9WT0QP6QJUP62Z2'\n",
    "#APIKEY='J9C7OL32PNFNYOQT'\n",
    "APIKEY='IEC8UQONBQGA7UYQ'\n",
    "#APIKEY='demo'\n",
    "SYMBOL='AAPL'\n",
    "YEAR = 2022\n",
    "\n",
    "file = None\n",
    "save=True\n",
    "for d in range(YEAR, YEAR+1):\n",
    "    for m in range(2,12):        \n",
    "        if m+1 < 10:\n",
    "            mon = str(d)+\"0\"+str(m+1)\n",
    "        else:\n",
    "            mon = str(d)+str(m+1)\n",
    "        url =  'https://www.alphavantage.co/query?function=NEWS_SENTIMENT&tickers=' + SYMBOL\n",
    "        url += '&time_from='+mon+'01T0000&time_to='+mon+str(calendar.monthrange(YEAR, m+1)[1])+\\\n",
    "            'T2359&limit=1000&apikey=' + APIKEY\n",
    "        r = requests.get(url)\n",
    "        #print(r.json())\n",
    "        sentiment = np.empty([0,6])\n",
    "        \n",
    "        if 'feed' in pd.json_normalize(r.json()):\n",
    "            df= pd.json_normalize(r.json()['feed'])\n",
    "            for index, row in df.iterrows():\n",
    "                for item in row['ticker_sentiment']:\n",
    "                    if item['ticker'] == SYMBOL:\n",
    "                        newnp=np.array([row['time_published'], row['title'],row['summary'],\n",
    "                            item['ticker'], item['relevance_score'], item['ticker_sentiment_score']])\n",
    "                        sentiment = np.vstack((sentiment, newnp))           \n",
    "            sntmnt = pd.DataFrame(sentiment, columns=['date','title','summary','ticker','relevance','sentiment'])\n",
    "            file = pd.concat([file, sntmnt])\n",
    "            print(file.shape[0])\n",
    "        else:\n",
    "            print(r.json())\n",
    "            save=False\n",
    "            break\n",
    "if save:\n",
    "    file.to_csv('Datasets/News-'+SYMBOL+'-'+str(YEAR)+'.csv', index=False)\n",
    "    print(\"File saved\")\n",
    "else:\n",
    "    print(\"File not saved\")"
   ]
  }
 ],
 "metadata": {
  "kernelspec": {
   "display_name": "Python 3",
   "language": "python",
   "name": "python3"
  },
  "language_info": {
   "codemirror_mode": {
    "name": "ipython",
    "version": 3
   },
   "file_extension": ".py",
   "mimetype": "text/x-python",
   "name": "python",
   "nbconvert_exporter": "python",
   "pygments_lexer": "ipython3",
   "version": "3.12.6"
  }
 },
 "nbformat": 4,
 "nbformat_minor": 2
}
