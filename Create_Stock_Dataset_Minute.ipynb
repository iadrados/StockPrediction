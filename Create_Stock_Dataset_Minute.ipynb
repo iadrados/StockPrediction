{
 "cells": [
  {
   "cell_type": "code",
   "execution_count": null,
   "metadata": {},
   "outputs": [
    {
     "name": "stdout",
     "output_type": "stream",
     "text": [
      "(16484, 6)\n",
      "(31799, 6)\n",
      "(49487, 6)\n",
      "(64208, 6)\n",
      "(82178, 6)\n",
      "(101973, 6)\n",
      "(120603, 6)\n",
      "(142037, 6)\n",
      "(160549, 6)\n",
      "(181129, 6)\n",
      "(200497, 6)\n",
      "(219102, 6)\n"
     ]
    }
   ],
   "source": [
    "import requests # type: ignore\n",
    "import pandas as pd # type: ignore\n",
    "import io\n",
    "\n",
    "APIKEY='X9WT0QP6QJUP62Z2'\n",
    "APIKEY='J9C7OL32PNFNYOQT'\n",
    "APIKEY='IEC8UQONBQGA7UYQ'\n",
    "SYMBOL='AMZN'\n",
    "YEAR = 2023\n",
    "\n",
    "file = None\n",
    "for d in range(YEAR,YEAR+1):\n",
    "    for m in range(12):\n",
    "        url = 'https://www.alphavantage.co/query?function=TIME_SERIES_INTRADAY&symbol='+SYMBOL\n",
    "        url += '&interval=1min&outputsize=full&apikey='+APIKEY+'&datatype=csv&month='\n",
    "        if m+1 < 10:\n",
    "            url += str(d)+\"-0\"+str(m+1)\n",
    "        else:\n",
    "            url += str(d)+\"-\"+str(m+1)\n",
    "        r = requests.get(url)\n",
    "        file = pd.concat([file, pd.read_csv(io.StringIO(r.content.decode('utf-8')))])\n",
    "file.to_csv('Datasets/'+SYMBOL+'-'+YEAR+'.csv', index=False)\n",
    "print(\"File Saved\")"
   ]
  }
 ],
 "metadata": {
  "kernelspec": {
   "display_name": "Python 3",
   "language": "python",
   "name": "python3"
  },
  "language_info": {
   "codemirror_mode": {
    "name": "ipython",
    "version": 3
   },
   "file_extension": ".py",
   "mimetype": "text/x-python",
   "name": "python",
   "nbconvert_exporter": "python",
   "pygments_lexer": "ipython3",
   "version": "3.12.6"
  }
 },
 "nbformat": 4,
 "nbformat_minor": 2
}
