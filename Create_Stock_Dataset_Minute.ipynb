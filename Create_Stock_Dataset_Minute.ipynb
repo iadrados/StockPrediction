{
 "cells": [
  {
   "cell_type": "markdown",
   "metadata": {},
   "source": [
    "## Stock Exchange Datasets\n",
    "\n",
    "Downloads and merges the stock exchange datasets from Alpha Vantage using the demo API Key. Replace the 'demo' key by a new key obtained in https://www.alphavantage.co/.\n",
    "\n",
    "Specify the FILE_PATH, SYMBOL and YEAR for getting the required data"
   ]
  },
  {
   "cell_type": "code",
   "execution_count": null,
   "metadata": {},
   "outputs": [],
   "source": [
    "import requests # type: ignore\n",
    "import pandas as pd # type: ignore\n",
    "import io\n",
    "\n",
    "#The path to the datasets used in this notebook\n",
    "FILE_PATH = 'Datasets/'\n",
    "APIKEY='demo'\n",
    "SYMBOL='AMZN'\n",
    "YEAR = 2022\n",
    "\n",
    "file = None\n",
    "for d in range(YEAR,YEAR+1):\n",
    "    for m in range(12):\n",
    "        url = 'https://www.alphavantage.co/query?function=TIME_SERIES_INTRADAY&symbol='+SYMBOL\n",
    "        url += '&interval=1min&outputsize=full&apikey='+APIKEY+'&datatype=csv&month='\n",
    "        if m+1 < 10:\n",
    "            url += str(d)+\"-0\"+str(m+1)\n",
    "        else:\n",
    "            url += str(d)+\"-\"+str(m+1)\n",
    "        r = requests.get(url)\n",
    "        file = pd.concat([file, pd.read_csv(io.StringIO(r.content.decode('utf-8')))])\n",
    "        \n",
    "file.to_csv(FILE_PATH + 'Stock-'+SYMBOL+'-'+str(YEAR)+'.csv', index=False)\n",
    "print(\"File Saved\")"
   ]
  }
 ],
 "metadata": {
  "kernelspec": {
   "display_name": "Python 3",
   "language": "python",
   "name": "python3"
  },
  "language_info": {
   "codemirror_mode": {
    "name": "ipython",
    "version": 3
   },
   "file_extension": ".py",
   "mimetype": "text/x-python",
   "name": "python",
   "nbconvert_exporter": "python",
   "pygments_lexer": "ipython3",
   "version": "3.12.6"
  }
 },
 "nbformat": 4,
 "nbformat_minor": 2
}
