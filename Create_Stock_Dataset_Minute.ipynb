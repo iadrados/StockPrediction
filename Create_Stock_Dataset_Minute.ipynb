{
 "cells": [
  {
   "cell_type": "code",
   "execution_count": 2,
   "metadata": {},
   "outputs": [
    {
     "name": "stdout",
     "output_type": "stream",
     "text": [
      "9319\n",
      "18720\n",
      "29265\n",
      "38592\n",
      "48709\n",
      "64971\n",
      "80353\n",
      "97471\n",
      "112962\n",
      "129395\n",
      "146663\n",
      "163489\n",
      "File Saved\n"
     ]
    }
   ],
   "source": [
    "import requests # type: ignore\n",
    "import pandas as pd # type: ignore\n",
    "import io\n",
    "\n",
    "APIKEY='X9WT0QP6QJUP62Z2'\n",
    "#APIKEY='J9C7OL32PNFNYOQT'\n",
    "#APIKEY='IEC8UQONBQGA7UYQ'\n",
    "SYMBOL='AMZN'\n",
    "YEAR = 2022\n",
    "\n",
    "file = None\n",
    "for d in range(YEAR,YEAR+1):\n",
    "    for m in range(12):\n",
    "        url = 'https://www.alphavantage.co/query?function=TIME_SERIES_INTRADAY&symbol='+SYMBOL\n",
    "        url += '&interval=1min&outputsize=full&apikey='+APIKEY+'&datatype=csv&month='\n",
    "        if m+1 < 10:\n",
    "            url += str(d)+\"-0\"+str(m+1)\n",
    "        else:\n",
    "            url += str(d)+\"-\"+str(m+1)\n",
    "        r = requests.get(url)\n",
    "        file = pd.concat([file, pd.read_csv(io.StringIO(r.content.decode('utf-8')))])\n",
    "        print(file.shape[0])\n",
    "file.to_csv('Datasets/Stock-'+SYMBOL+'-'+str(YEAR)+'.csv', index=False)\n",
    "print(\"File Saved\")"
   ]
  }
 ],
 "metadata": {
  "kernelspec": {
   "display_name": "Python 3",
   "language": "python",
   "name": "python3"
  },
  "language_info": {
   "codemirror_mode": {
    "name": "ipython",
    "version": 3
   },
   "file_extension": ".py",
   "mimetype": "text/x-python",
   "name": "python",
   "nbconvert_exporter": "python",
   "pygments_lexer": "ipython3",
   "version": "3.12.6"
  }
 },
 "nbformat": 4,
 "nbformat_minor": 2
}
